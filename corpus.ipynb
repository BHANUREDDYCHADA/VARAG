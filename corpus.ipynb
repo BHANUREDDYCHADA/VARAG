{
 "cells": [
  {
   "cell_type": "code",
   "execution_count": 2,
   "id": "f011ae66-8387-423d-8a0a-e1420215d943",
   "metadata": {},
   "outputs": [
    {
     "name": "stdout",
     "output_type": "stream",
     "text": [
      "Requirement already satisfied: PyPDF2 in c:\\users\\dell\\anaconda3\\envs\\venv\\lib\\site-packages (3.0.1)\n",
      "Note: you may need to restart the kernel to use updated packages.\n"
     ]
    }
   ],
   "source": [
    "%pip install PyPDF2\n"
   ]
  },
  {
   "cell_type": "code",
   "execution_count": 2,
   "id": "e787d8fe-e9e3-4102-9d5b-fd9733958cea",
   "metadata": {},
   "outputs": [
    {
     "name": "stdout",
     "output_type": "stream",
     "text": [
      "OOAD Project UML  \n",
      "Abhi ram.H.A  \n",
      "PES1UG21CS02 4 \n",
      "Team ID: A5  \n",
      " \n",
      "Ticket State  Diagram  \n",
      " \n",
      " \n",
      " \n",
      " \n",
      " \n",
      " \n",
      " \n",
      " \n",
      "\n",
      "************\n",
      "Book Ticke t Activity Diagram  \n",
      " \n",
      "\n",
      "************\n"
     ]
    }
   ],
   "source": [
    "from PyPDF2 import PdfReader\n",
    "\n",
    "reader = PdfReader(\"test2.pdf\")\n",
    "n = len(reader.pages)\n",
    "for i in range(0,n):\n",
    "    page = reader.pages[i]\n",
    "    print(page.extract_text())\n",
    "    print(\"************\")"
   ]
  },
  {
   "cell_type": "code",
   "execution_count": 9,
   "id": "d8c030c8-6f80-4aef-a0a8-142a174922bd",
   "metadata": {},
   "outputs": [
    {
     "name": "stdout",
     "output_type": "stream",
     "text": [
      "GAANDU ABHINAV\n",
      "<class 'PIL.PpmImagePlugin.PpmImageFile'>\n",
      "TG 0\n",
      "TG 1\n",
      "TG 2\n",
      "kkk\n",
      "TG 3\n",
      "TG 4\n",
      "TG 5\n",
      "TG 6\n",
      "TG 7\n"
     ]
    }
   ],
   "source": [
    "from pdf2image import convert_from_path\n",
    "from PyPDF2 import PdfReader\n",
    "# incase of Linux we don't have to provide the popper_path parameter\n",
    "images = convert_from_path(\n",
    "\t'test2.pdf')\n",
    "print(\"GAANDU ABHINAV\")\n",
    "reader = PdfReader(\"test2.pdf\")\n",
    "\n",
    "file1 = open(r\"F:\\TDL_Images\\MyFile1.csv\",\"a\")\n",
    "print(type(images[0]))\n",
    "for i in range(len(images)):\n",
    "    try:\n",
    "    \t# Save pages as images in the pdf\n",
    "        images[i].save(f'F:\\TDL_Images\\image_{i+1}.png', 'PNG')\n",
    "        page = reader.pages[i]\n",
    "        a = page.extract_text()\n",
    "        print(\"TG\",i)\n",
    "\n",
    "        file1.write(f'F:\\TDL_Images\\image_{i+1}.png, {a}')\n",
    "    except:\n",
    "        print(\"kkk\")\n",
    "    \n",
    "file1.close()  "
   ]
  },
  {
   "cell_type": "code",
   "execution_count": null,
   "id": "fedac31e-7f52-4d7e-be9e-cb3718252c8f",
   "metadata": {},
   "outputs": [],
   "source": []
  }
 ],
 "metadata": {
  "kernelspec": {
   "display_name": "Python 3 (ipykernel)",
   "language": "python",
   "name": "python3"
  },
  "language_info": {
   "codemirror_mode": {
    "name": "ipython",
    "version": 3
   },
   "file_extension": ".py",
   "mimetype": "text/x-python",
   "name": "python",
   "nbconvert_exporter": "python",
   "pygments_lexer": "ipython3",
   "version": "3.10.0"
  }
 },
 "nbformat": 4,
 "nbformat_minor": 5
}
