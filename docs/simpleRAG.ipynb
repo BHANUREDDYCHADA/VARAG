{
 "cells": [
  {
   "cell_type": "markdown",
   "metadata": {},
   "source": [
    "### simple RAG using [VARAG](https://github.com/adithya-s-k/VARAG)\n",
    "\n",
    "\n",
    "[![Open In Colab](https://colab.research.google.com/assets/colab-badge.svg)](https://colab.research.google.com/github/adithya-s-k/CompanionLLadithya-s-k/VARAG/blob/main/docs/simpleRAG.ipynb)\n",
    "\n",
    "Requirement to RUN this notebook - CPU or t4(if using OCR and need fast ocr)"
   ]
  },
  {
   "cell_type": "code",
   "execution_count": null,
   "metadata": {},
   "outputs": [],
   "source": [
    "!git clone https://github.com/adithya-s-k/VARAG\n",
    "%cd omniparse\n",
    "%pwd"
   ]
  },
  {
   "cell_type": "code",
   "execution_count": null,
   "metadata": {},
   "outputs": [],
   "source": [
    "!apt-get update && apt-get install -y && apt-get install -y poppler-utils"
   ]
  },
  {
   "cell_type": "code",
   "execution_count": null,
   "metadata": {},
   "outputs": [],
   "source": [
    "%pip install -e ."
   ]
  },
  {
   "cell_type": "code",
   "execution_count": null,
   "metadata": {},
   "outputs": [],
   "source": [
    "from sentence_transformers import SentenceTransformer\n",
    "from varag.rag import SimpleRAG\n",
    "from varag.llms import OpenAI\n",
    "from varag.chunking import FixedTokenChunker\n",
    "import lancedb\n",
    "import os\n",
    "from dotenv import load_dotenv\n",
    "\n",
    "os.environ[\"OPENAI_API_KEY\"] = \"api_key\"\n",
    "\n",
    "load_dotenv()"
   ]
  },
  {
   "cell_type": "code",
   "execution_count": null,
   "metadata": {},
   "outputs": [],
   "source": [
    "embedding_model = SentenceTransformer(\"all-MiniLM-L6-v2\", trust_remote_code=True)\n",
    "# embedding_model = SentenceTransformer(\"BAAI/bge-base-en\", trust_remote_code=True)\n",
    "# embedding_model = SentenceTransformer(\"BAAI/bge-large-en-v1.5\", trust_remote_code=True)\n",
    "# embedding_model = SentenceTransformer(\"BAAI/bge-small-en-v1.5\", trust_remote_code=True)\n",
    "\n",
    "# Initialize shared database\n",
    "shared_db = lancedb.connect(\"~/shared_rag_db\")\n",
    "\n",
    "# Initialize TextRAG with shared database\n",
    "text_rag = SimpleRAG(\n",
    "    text_embedding_model=embedding_model,\n",
    "    db=shared_db,\n",
    "    table_name=\"textDemo\",\n",
    ")\n",
    "\n",
    "\n",
    "# Initialize OpenAI LLM\n",
    "llm = OpenAI()"
   ]
  },
  {
   "cell_type": "code",
   "execution_count": null,
   "metadata": {},
   "outputs": [],
   "source": [
    "text_rag.index(\n",
    "        \"./examples/data\",\n",
    "        recursive=False,\n",
    "        chunking_strategy=FixedTokenChunker(chunk_size=1000),\n",
    "        metadata={\"source\": \"gradio_upload\"},\n",
    "        overwrite=True,\n",
    "        verbose=True,\n",
    "        ocr=True,\n",
    "    )"
   ]
  },
  {
   "cell_type": "code",
   "execution_count": null,
   "metadata": {},
   "outputs": [],
   "source": [
    "query = \"Use Query\"\n",
    "num_results = 5\n",
    "\n",
    "search_results = text_rag.search(query, k=num_results)\n",
    "\n",
    "print(\"This was the retrieved Context\")\n",
    "for i, r in enumerate(search_results):\n",
    "    print(f\"{'==='*50}\")\n",
    "    print(f\"\\n\\nChunk {i+1}:\")\n",
    "    print(f\"Text: {r['text']}\")\n",
    "    print(f\"Chunk Index: {r['chunk_index']}\")\n",
    "    print(f\"Document Name: {r['document_name']}\")\n",
    "    print(f\"\\n\\n{'==='*50}\")"
   ]
  },
  {
   "cell_type": "code",
   "execution_count": null,
   "metadata": {},
   "outputs": [],
   "source": [
    "context = \"\\n\".join([r[\"text\"] for r in search_results])\n",
    "response = llm.query(\n",
    "    context=context,\n",
    "    system_prompt=\"Given the below information answer the questions\",\n",
    "    query=query,\n",
    ")"
   ]
  },
  {
   "cell_type": "markdown",
   "metadata": {},
   "source": [
    "### Run Gradio Demo"
   ]
  },
  {
   "cell_type": "code",
   "execution_count": null,
   "metadata": {},
   "outputs": [],
   "source": [
    "%cd examples \n",
    "!python textDemo.py --share"
   ]
  }
 ],
 "metadata": {
  "language_info": {
   "name": "python"
  }
 },
 "nbformat": 4,
 "nbformat_minor": 2
}
