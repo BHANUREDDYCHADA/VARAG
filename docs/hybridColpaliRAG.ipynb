{
 "cells": [
  {
   "cell_type": "markdown",
   "metadata": {},
   "source": [
    "### Hybrid Colpali RAG using [VARAG](https://github.com/adithya-s-k/VARAG)\n",
    "\n",
    "\n",
    "[![Open In Colab](https://colab.research.google.com/assets/colab-badge.svg)](https://colab.research.google.com/github/adithya-s-k/CompanionLLadithya-s-k/VARAG/blob/main/docs/hybridColpaliRAG.ipynb)\n",
    "\n",
    "Requirement to RUN this notebook - Min T4 GPU"
   ]
  },
  {
   "cell_type": "markdown",
   "metadata": {},
   "source": []
  }
 ],
 "metadata": {
  "language_info": {
   "name": "python"
  }
 },
 "nbformat": 4,
 "nbformat_minor": 2
}
